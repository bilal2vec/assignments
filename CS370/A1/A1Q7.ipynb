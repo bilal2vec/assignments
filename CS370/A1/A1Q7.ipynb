{
 "cells": [
  {
   "cell_type": "markdown",
   "metadata": {},
   "source": [
    "# A4-Q5: Parametric Spline"
   ]
  },
  {
   "cell_type": "code",
   "execution_count": null,
   "metadata": {},
   "outputs": [],
   "source": [
    "import numpy as np\n",
    "from scipy.interpolate import make_interp_spline\n",
    "import matplotlib.pyplot as plt"
   ]
  },
  {
   "cell_type": "markdown",
   "metadata": {},
   "source": [
    "## (a) Write your nickname and display it"
   ]
  },
  {
   "cell_type": "code",
   "execution_count": null,
   "metadata": {
    "scrolled": true
   },
   "outputs": [],
   "source": [
    "# Display nickname image\n",
    "f = plt.imread('Bennifer.jpg')\n",
    "plt.figure(figsize=(9,5)); plt.imshow(f);\n"
   ]
  },
  {
   "cell_type": "markdown",
   "metadata": {},
   "source": [
    "## (b) Hardcode interpolation points"
   ]
  },
  {
   "cell_type": "code",
   "execution_count": null,
   "metadata": {},
   "outputs": [],
   "source": [
    "# === YOUR CODE HERE ===\n"
   ]
  },
  {
   "cell_type": "markdown",
   "metadata": {},
   "source": [
    "## (c) `ParametricSpline`"
   ]
  },
  {
   "cell_type": "code",
   "execution_count": null,
   "metadata": {},
   "outputs": [],
   "source": [
    "def ParametricSpline(Sx,Sy):\n",
    "    '''\n",
    "     x_cs, y_cs, t = ParametricSpline(Sx,Sy)\n",
    "\n",
    "       Takes an array of x- and y-values, and returns a parametric\n",
    "       cubic spline in the form of two piecewise-cubic data structures\n",
    "       (one for the x-component and one for the y-component), as well as\n",
    "       the corresponding parameter values.\n",
    "       \n",
    "       The splines use natural boundary conditions.\n",
    "\n",
    "       Input:\n",
    "        Sx   array of x-values\n",
    "        Sy   array of y-values\n",
    "\n",
    "       Output:\n",
    "        x_cs function that evaluates the cubic spline for x-component\n",
    "        y_cs function that evaluates the cubic spline for y-component\n",
    "        t is the array of parameter values use for the splines\n",
    "\n",
    "       Note that x_cs(t) and y_cs(t) give Sx and Sy, respectively.\n",
    "    '''\n",
    "\n",
    "    # These lines are just placeholders... replace them\n",
    "    x_cs = lambda t:[0]\n",
    "    y_cs = lambda t:[0]\n",
    "    t = np.zeros_like(Sx)\n",
    "    # === YOUR CODE HERE ===\n",
    "\n",
    "    return x_cs, y_cs, t"
   ]
  },
  {
   "cell_type": "markdown",
   "metadata": {},
   "source": [
    "## (d) Find parametric splines for each segment"
   ]
  },
  {
   "cell_type": "code",
   "execution_count": null,
   "metadata": {},
   "outputs": [],
   "source": [
    "# === YOUR CODE HERE ===\n"
   ]
  },
  {
   "cell_type": "markdown",
   "metadata": {},
   "source": [
    "## (e) Plot the segments"
   ]
  },
  {
   "cell_type": "code",
   "execution_count": null,
   "metadata": {},
   "outputs": [],
   "source": [
    "# === YOUR CODE HERE ===\n"
   ]
  },
  {
   "cell_type": "code",
   "execution_count": null,
   "metadata": {},
   "outputs": [],
   "source": []
  }
 ],
 "metadata": {
  "kernelspec": {
   "display_name": "Python 3",
   "language": "python",
   "name": "python3"
  },
  "language_info": {
   "codemirror_mode": {
    "name": "ipython",
    "version": 3
   },
   "file_extension": ".py",
   "mimetype": "text/x-python",
   "name": "python",
   "nbconvert_exporter": "python",
   "pygments_lexer": "ipython3",
   "version": "3.8.3"
  }
 },
 "nbformat": 4,
 "nbformat_minor": 2
}
