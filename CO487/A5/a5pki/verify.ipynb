{
 "cells": [
  {
   "cell_type": "code",
   "execution_count": null,
   "id": "74824197-23ca-4000-80f8-af639f9ec731",
   "metadata": {},
   "outputs": [],
   "source": [
    "from datetime import datetime\n",
    "import json\n",
    "import sys\n",
    "from cryptography.hazmat.primitives.asymmetric import ec\n",
    "from cryptography.hazmat.primitives import hashes\n",
    "from cryptography.hazmat.primitives.asymmetric.utils import encode_dss_signature\n",
    "from cryptography.hazmat.primitives import serialization\n",
    "\n",
    "# Helper function for converting strings into byte arrays needed by cryptographic functions\n",
    "def string_to_bytes(s):\n",
    "    return s.encode('utf-8')\n",
    "\n",
    "# This function will ensure that we represent the JSON dictionary as exactly the\n",
    "# same string every time, otherwise we'd get different hashes while signing\n",
    "def canonicalize_json(j):\n",
    "    return json.dumps(j, sort_keys=True)\n",
    "\n",
    "def verify(ca_identity, signed_message_filename): \n",
    "\n",
    "    print(\"Trying to verify \" + signed_message_filename)\n",
    "\n",
    "    # Load the signed message data\n",
    "    with open(signed_message_filename, 'r') as fh:\n",
    "        signed_message = json.load(fh)\n",
    "\n",
    "    # Read out the identity of the signer and load their certificate\n",
    "    signer_identity = signed_message['signer identity']\n",
    "    with open(signer_identity + '.cert', 'r') as fh:\n",
    "        signer_cert = json.load(fh)\n",
    "    # Format the certificate body for signing as a byte array in a canonical order\n",
    "    cert_body_to_be_signed = string_to_bytes(canonicalize_json(signer_cert[\"body\"]))\n",
    "\n",
    "    # Read out the identity of the issuer and load their public key\n",
    "    issuer_identity = signer_cert['body']['issuer identity']\n",
    "    signer_pk = serialization.load_pem_public_key(string_to_bytes(signer_cert['body']['public key']))\n",
    "    with open(ca_identity + '.pk', 'r') as fh:\n",
    "        ca_public_key = serialization.load_pem_public_key(string_to_bytes(fh.read()))\n",
    "\n",
    "    # YOUR SOLUTION STARTS HERE\n",
    "\n",
    "    # Functions that might be of use to you:\n",
    "    # - datetime.fromisoformat (https://docs.python.org/3/library/datetime.html#datetime.date.fromisoformat)\n",
    "    # - datetime.now\n",
    "    # - encode_dss_signature (https://cryptography.io/en/latest/hazmat/primitives/asymmetric/utils/#cryptography.hazmat.primitives.asymmetric.utils.encode_dss_signature)\n",
    "    # - ca_public_key.verify and signer_pk.verify (see https://cryptography.io/en/latest/hazmat/primitives/asymmetric/ec/#elliptic-curve-signature-algorithms)\n",
    "\n",
    "verify(\"dstebila\", \"message1.signed.txt\")\n",
    "verify(\"dstebila\", \"message2.signed.txt\")\n",
    "verify(\"dstebila\", \"message3.signed.txt\")\n",
    "verify(\"dstebila\", \"message4.signed.txt\")\n",
    "verify(\"dstebila\", \"message5.signed.txt\")\n",
    "verify(\"dstebila\", \"message6.signed.txt\")\n"
   ]
  }
 ],
 "metadata": {
  "kernelspec": {
   "display_name": "Python 3 extra",
   "language": "python",
   "name": "python3-extra"
  },
  "language_info": {
   "codemirror_mode": {
    "name": "ipython",
    "version": 3
   },
   "file_extension": ".py",
   "mimetype": "text/x-python",
   "name": "python",
   "nbconvert_exporter": "python",
   "pygments_lexer": "ipython3",
   "version": "3.10.6"
  }
 },
 "nbformat": 4,
 "nbformat_minor": 5
}
