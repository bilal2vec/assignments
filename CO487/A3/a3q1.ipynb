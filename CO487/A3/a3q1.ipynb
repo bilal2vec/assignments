{
 "cells": [
  {
   "cell_type": "markdown",
   "id": "ef015824-d0fb-49d2-84eb-b706ba1be75d",
   "metadata": {},
   "source": [
    "# Assignment 3 Question 1\n",
    "\n",
    "### CO 487/687 Applied Cryptography Fall 2024\n",
    "\n",
    "This Jupyter notebook contains Python 3 code for Assignment 3 Question 1 on \"Symemtric Encryption in Python\".\n",
    "\n",
    "### Documentation\n",
    "\n",
    "- [Python cryptography library](https://cryptography.io/en/latest/)"
   ]
  },
  {
   "cell_type": "markdown",
   "id": "2948cd7d-5ce4-4c02-a6cf-e61c5bf8a673",
   "metadata": {},
   "source": [
    "The following code imports all the required functions for the assignment."
   ]
  },
  {
   "cell_type": "code",
   "execution_count": 2,
   "id": "9b7a43a4-5b20-4257-9df6-06784f4e604c",
   "metadata": {},
   "outputs": [],
   "source": [
    "import base64\n",
    "import getpass\n",
    "import json\n",
    "import os\n",
    "import sys\n",
    "from cryptography.hazmat.primitives import hashes, hmac\n",
    "from cryptography.hazmat.primitives.kdf.scrypt import Scrypt\n",
    "from cryptography.hazmat.primitives.ciphers import Cipher, algorithms, modes    \n",
    "from cryptography.hazmat.primitives import padding\n",
    "from cryptography.hazmat.primitives import constant_time\n",
    "from timeit import default_timer as timer"
   ]
  },
  {
   "cell_type": "markdown",
   "id": "2006d7f1-e4a6-4fec-acf8-4aa4edc0786c",
   "metadata": {},
   "source": [
    "These two functions convert a byte array into a printable string and back, which might be helpful to you since cryptographic routines often work with byte arrays."
   ]
  },
  {
   "cell_type": "code",
   "execution_count": 3,
   "id": "a4219e0e-2bf4-4488-82f2-43a6fcf6374c",
   "metadata": {},
   "outputs": [],
   "source": [
    "def bytes2string(b):\n",
    "    return base64.urlsafe_b64encode(b).decode('utf-8')\n",
    "\n",
    "def string2bytes(s):\n",
    "    return base64.urlsafe_b64decode(s.encode('utf-8'))"
   ]
  },
  {
   "cell_type": "markdown",
   "id": "a4774352-9e99-4800-b698-c684f39ec060",
   "metadata": {},
   "source": [
    "Implement the main encryption function below. Your function will take as input a string, and will output a string or dictionary containing all the values needed to decrypt (other than the password, of course). The code below will prompt the user to enter their password during encryption."
   ]
  },
  {
   "cell_type": "code",
   "execution_count": 15,
   "id": "071c13d4-2adc-4038-b6a6-4e4425fa750b",
   "metadata": {},
   "outputs": [],
   "source": [
    "def encrypt(message):\n",
    "    \n",
    "    # encode the string as a byte string, since cryptographic functions usually work on bytes\n",
    "    plaintext = message.encode('utf-8')\n",
    "\n",
    "    # Use getpass to prompt the user for a password\n",
    "    password = getpass.getpass(\"Enter password:\")\n",
    "    password2 = getpass.getpass(\"Enter password again:\")\n",
    "\n",
    "    # Do a quick check to make sure that the password is the same!\n",
    "    if password != password2:\n",
    "        sys.stderr.write(\"Passwords did not match\")\n",
    "        sys.exit()\n",
    "\n",
    "    ### START: This is what you have to change\n",
    "\n",
    "    salt = os.urandom(16)\n",
    "    iv = os.urandom(16)\n",
    "\n",
    "    kdf = Scrypt(salt=salt, length=64, n=2**14, r=8, p=1)\n",
    "    key = kdf.derive(password.encode('utf-8'))\n",
    "    \n",
    "    aes_key = key[:32]\n",
    "    hmac_key = key[32:]\n",
    "    \n",
    "    cipher = Cipher(algorithms.AES256(aes_key), modes.CFB(iv))\n",
    "    enc = cipher.encryptor()\n",
    "    ciphertext = enc.update(plaintext) + enc.finalize()\n",
    "    \n",
    "    h = hmac.HMAC(hmac_key, hashes.SHA3_512())\n",
    "    h.update(iv + ciphertext)\n",
    "    mac = h.finalize()\n",
    "    \n",
    "    return json.dumps({\n",
    "        'salt': bytes2string(salt),\n",
    "        'iv': bytes2string(iv),\n",
    "        'ciphertext': bytes2string(ciphertext),\n",
    "        'mac': bytes2string(mac)\n",
    "    })\n",
    "\n",
    "    ### END: This is what you have to change"
   ]
  },
  {
   "cell_type": "markdown",
   "id": "755c486e-533e-45cc-bfb2-84a3639fd7c2",
   "metadata": {},
   "source": [
    "Now we call the `encrypt` function with a message, and print out the ciphertext it generates."
   ]
  },
  {
   "cell_type": "code",
   "execution_count": 17,
   "id": "90218d89-3d57-4790-9b0c-d42a99b6a0e8",
   "metadata": {},
   "outputs": [
    {
     "name": "stdout",
     "output_type": "stream",
     "text": [
      "{\"salt\": \"POQwC2QvcfGttMm8pDdAPQ==\", \"iv\": \"JS4OWIB_O_djIMihv7oLPA==\", \"ciphertext\": \"xFAjLtLwJiXMAfNOlQ==\", \"mac\": \"JdlDLtoXeTrpbuP5b-XfNmx85dj6CYqTc0nj6_-90amxNh51TmuJ8ySSZI_47PaTyheauhXOAJ2osjyZMMv-og==\"}\n"
     ]
    }
   ],
   "source": [
    "mymessage = \"Hello, world!\"\n",
    "ciphertext = encrypt(mymessage)\n",
    "print(ciphertext)"
   ]
  },
  {
   "cell_type": "markdown",
   "id": "38ccdb8b-f692-4bea-9da2-4f466be0a931",
   "metadata": {},
   "source": [
    "Implement the main decryption function below.  Your function will take as input the string or dictionary output by `encrypt`, prompt the user to enter the password, and then do all the relevant cryptographic operations."
   ]
  },
  {
   "cell_type": "code",
   "execution_count": 18,
   "id": "7c96fa51-c307-4bd1-bba5-ce53fc4bfc18",
   "metadata": {},
   "outputs": [],
   "source": [
    "def decrypt(ciphertext):\n",
    "    \n",
    "    # prompt the user for the password\n",
    "    password = getpass.getpass(\"Enter the password:\")\n",
    "\n",
    "    ### START: This is what you have to change\n",
    "\n",
    "    try:\n",
    "        data = json.loads(ciphertext)\n",
    "        salt = string2bytes(data['salt'])\n",
    "        iv = string2bytes(data['iv'])\n",
    "        ciphertext = string2bytes(data['ciphertext'])\n",
    "        mac = string2bytes(data['mac'])\n",
    "    except:\n",
    "        raise ValueError(\"Invalid ciphertext\")\n",
    "\n",
    "    kdf = Scrypt(salt=salt, length=64, n=2**14, r=8, p=1)\n",
    "    key = kdf.derive(password.encode('utf-8'))\n",
    "    aes_key = key[:32]\n",
    "    hmac_key = key[32:]\n",
    "    \n",
    "    h = hmac.HMAC(hmac_key, hashes.SHA3_512())\n",
    "    h.update(iv + ciphertext)\n",
    "    try:\n",
    "        h.verify(mac)\n",
    "    except:\n",
    "        raise ValueError(\"Invalid MAC\")\n",
    "    \n",
    "    cipher = Cipher(algorithms.AES256(aes_key), modes.CFB(iv))\n",
    "    dec = cipher.decryptor()\n",
    "    plaintext = dec.update(ciphertext) + dec.finalize()\n",
    "\n",
    "    ### END: This is what you have to change\n",
    "\n",
    "    # decode the byte string back to a string\n",
    "    return plaintext.decode('utf-8')"
   ]
  },
  {
   "cell_type": "markdown",
   "id": "ef3bd698-cecd-489e-a19d-73e964bb598d",
   "metadata": {},
   "source": [
    "Now let's try decrypting the ciphertext you encrypted above by entering the same password as you used for encryption."
   ]
  },
  {
   "cell_type": "code",
   "execution_count": 19,
   "id": "3af449da-3d2e-48cf-a0e7-8ffcd4a3434f",
   "metadata": {},
   "outputs": [
    {
     "name": "stdout",
     "output_type": "stream",
     "text": [
      "Hello, world!\n"
     ]
    }
   ],
   "source": [
    "mymessagedecrypted = decrypt(ciphertext)\n",
    "print(mymessagedecrypted)\n",
    "assert mymessagedecrypted == mymessage"
   ]
  },
  {
   "cell_type": "markdown",
   "id": "b677baa9-72fe-4b4d-9253-5b920bfc27ee",
   "metadata": {},
   "source": [
    "Try again but this time see what happens if you use a different password to decrypt. Your function should fail."
   ]
  },
  {
   "cell_type": "code",
   "execution_count": 20,
   "id": "5005c99d-00bf-4746-8e5c-f075f756aea2",
   "metadata": {},
   "outputs": [
    {
     "ename": "ValueError",
     "evalue": "Invalid MAC",
     "output_type": "error",
     "traceback": [
      "\u001b[0;31m---------------------------------------------------------------------------\u001b[0m",
      "\u001b[0;31mInvalidSignature\u001b[0m                          Traceback (most recent call last)",
      "Cell \u001b[0;32mIn[18], line 25\u001b[0m, in \u001b[0;36mdecrypt\u001b[0;34m(ciphertext)\u001b[0m\n\u001b[1;32m     24\u001b[0m \u001b[38;5;28;01mtry\u001b[39;00m:\n\u001b[0;32m---> 25\u001b[0m     \u001b[43mh\u001b[49m\u001b[38;5;241;43m.\u001b[39;49m\u001b[43mverify\u001b[49m\u001b[43m(\u001b[49m\u001b[43mmac\u001b[49m\u001b[43m)\u001b[49m\n\u001b[1;32m     26\u001b[0m \u001b[38;5;28;01mexcept\u001b[39;00m:\n",
      "\u001b[0;31mInvalidSignature\u001b[0m: Signature did not match digest.",
      "\nDuring handling of the above exception, another exception occurred:\n",
      "\u001b[0;31mValueError\u001b[0m                                Traceback (most recent call last)",
      "Cell \u001b[0;32mIn[20], line 1\u001b[0m\n\u001b[0;32m----> 1\u001b[0m mymessagedecrypted \u001b[38;5;241m=\u001b[39m \u001b[43mdecrypt\u001b[49m\u001b[43m(\u001b[49m\u001b[43mciphertext\u001b[49m\u001b[43m)\u001b[49m\n\u001b[1;32m      2\u001b[0m \u001b[38;5;28mprint\u001b[39m(mymessagedecrypted)\n\u001b[1;32m      3\u001b[0m \u001b[38;5;28;01massert\u001b[39;00m mymessagedecrypted \u001b[38;5;241m==\u001b[39m mymessage\n",
      "Cell \u001b[0;32mIn[18], line 27\u001b[0m, in \u001b[0;36mdecrypt\u001b[0;34m(ciphertext)\u001b[0m\n\u001b[1;32m     25\u001b[0m     h\u001b[38;5;241m.\u001b[39mverify(mac)\n\u001b[1;32m     26\u001b[0m \u001b[38;5;28;01mexcept\u001b[39;00m:\n\u001b[0;32m---> 27\u001b[0m     \u001b[38;5;28;01mraise\u001b[39;00m \u001b[38;5;167;01mValueError\u001b[39;00m(\u001b[38;5;124m\"\u001b[39m\u001b[38;5;124mInvalid MAC\u001b[39m\u001b[38;5;124m\"\u001b[39m)\n\u001b[1;32m     29\u001b[0m cipher \u001b[38;5;241m=\u001b[39m Cipher(algorithms\u001b[38;5;241m.\u001b[39mAES256(aes_key), modes\u001b[38;5;241m.\u001b[39mCFB(iv))\n\u001b[1;32m     30\u001b[0m dec \u001b[38;5;241m=\u001b[39m cipher\u001b[38;5;241m.\u001b[39mdecryptor()\n",
      "\u001b[0;31mValueError\u001b[0m: Invalid MAC"
     ]
    }
   ],
   "source": [
    "mymessagedecrypted = decrypt(ciphertext)\n",
    "print(mymessagedecrypted)\n",
    "assert mymessagedecrypted == mymessage"
   ]
  },
  {
   "cell_type": "markdown",
   "id": "8a4f5417-e1bd-4712-b0c0-35d4c50073c9",
   "metadata": {},
   "source": [
    "If you would like to measure the runtime of a particular operation, you can use the following snippit of code:"
   ]
  },
  {
   "cell_type": "code",
   "execution_count": 22,
   "id": "ae256eca",
   "metadata": {},
   "outputs": [
    {
     "name": "stdout",
     "output_type": "stream",
     "text": [
      "msg_len=13, encrypted_len=207, encrypted_len-msg_len=194\n"
     ]
    }
   ],
   "source": [
    "msg = \"Hello, world!\"\n",
    "\n",
    "msg_len = len(msg.encode('utf-8'))\n",
    "encrypted_len = len(encrypt(msg).encode('utf-8'))\n",
    "print(f'{msg_len=}, {encrypted_len=}, {encrypted_len-msg_len=}')"
   ]
  },
  {
   "cell_type": "code",
   "execution_count": null,
   "id": "95b029e2",
   "metadata": {},
   "outputs": [],
   "source": []
  }
 ],
 "metadata": {
  "kernelspec": {
   "display_name": "Python 3",
   "language": "python",
   "name": "python3"
  },
  "language_info": {
   "codemirror_mode": {
    "name": "ipython",
    "version": 3
   },
   "file_extension": ".py",
   "mimetype": "text/x-python",
   "name": "python",
   "nbconvert_exporter": "python",
   "pygments_lexer": "ipython3",
   "version": "3.11.9"
  }
 },
 "nbformat": 4,
 "nbformat_minor": 5
}
