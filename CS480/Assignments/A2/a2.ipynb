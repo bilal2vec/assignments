{
 "cells": [
  {
   "cell_type": "markdown",
   "id": "6a231e54",
   "metadata": {},
   "source": [
    "# Instructions\n",
    "\n",
    "- This assignment was posted on 30 September, 2024 and is due on ~~18 October 2024~~ 21 October 2024, at 11:59 pm\n",
    "- Answer all questions in this Jupyter notebook skeleton within the provided cells. Questions will indicate whether the answer should take the form of a coded or written response. Use the dropdown menu within the Jupyter interface to toggle between 'Markdown' or 'Code' for the cells. Do NOT delete or rearrange any of the question blocks within this skeleton.\n",
    "- The following two files should be submitted to LEARN:\n",
    "    - This IPYNB file containing the questions and your answers in either code or markdown.\n",
    "    - A PDF printout of this IPYNB file. To generate this, first run and save the output of all cells. Then expand all cells and print as PDF. Be sure that all your code and answers are visible in the PDF document you submit. "
   ]
  },
  {
   "cell_type": "markdown",
   "id": "453a6605",
   "metadata": {},
   "source": [
    "## Exercise 1. Maximum Likelihood Estimation\n",
    "\n",
    "The probability density function of a Beta distribution is given by:\n",
    "\n",
    "$$\n",
    "p(x) = \\frac{x^{\\alpha - 1} (1 - x)^{\\beta - 1}}{\\eta},\n",
    "$$\n",
    "\n",
    "where $x$ is the value of the random variable, $\\alpha$ and $\\beta$ are shape parameters, and $\\eta$ is a normalizing constant. Suppose that a dataset $\\boldsymbol{x} = \\{ x_1, x_2, \\ldots, x_n \\}$ is given, where each observation $x_i$ follows a Beta distribution. It is known that the relationship between the shape parameters is:\n",
    "\n",
    "$$\n",
    "\\beta = \\alpha^2\n",
    "$$\n",
    "\n",
    "### **EXERCISE1-TASK1: [10 marks]**\n",
    "\n",
    "Derive the maximum likelihood estimate of the shape parameter $\\beta$. That is, starting with the likelihood function, $\\mathcal{L}(\\alpha, \\beta \\mid \\boldsymbol{x})$, provide an analytical expression to compute $\\beta$, given some $\\alpha$.\n",
    "The normalizing constant $\\eta$ can be omitted during differentiation, as it does not affect the location of the maximum.\n"
   ]
  },
  {
   "cell_type": "markdown",
   "id": "5f6bf480",
   "metadata": {},
   "source": [
    "### Write your solution here using MathJax and Markdown ###"
   ]
  },
  {
   "cell_type": "markdown",
   "id": "7e5b3dc2",
   "metadata": {},
   "source": [
    "## Exercise 2. Kernel Density Estimation"
   ]
  },
  {
   "cell_type": "markdown",
   "id": "8a160902",
   "metadata": {},
   "source": [
    "### **EXERCISE2-TASK1: [5 marks]**\n",
    "\n",
    "Perform Kernel (Parzen) Density estimation on the Mystery.csv dataset in the folder, using your own gaussian kernel implemented from scratch.\n",
    "\n",
    "Detailed instructions: First, define a function `gaussian_kernel(x, xp, ls, variance=1)` that takes as inputs: `x`, a scalar or an array of points where the kernel is evaluated; `xp`, a scalar or an array of data points; `ls`, the length scale (or bandwidth) of the Gaussian kernel; and `variance`, the variance of the Gaussian kernel (which can be set to a default of 1). The function should compute and return the Gaussian kernel value as:\n",
    "\n",
    "$$\n",
    "K(x, x') = \\frac{1}{\\sqrt{2 \\pi \\text{variance}}} \\exp\\left(- \\frac{(x - x')^2}{2 \\cdot \\text{variance} \\cdot \\text{ls}^2}\\right).\n",
    "$$\n",
    "\n",
    "After implementing the Gaussian kernel function, perform Kernel Density Estimation (KDE) on the dataset. Use a length scale of 0.05. To do this, define 100 evaluation points uniformly over the range [0,1], and compute the empirical density at each evaluation point. Finally, create a scatter plot of the sample data points along the 1D line and plot the estimated density using the evaluation points. Label the axes appropriately."
   ]
  },
  {
   "cell_type": "code",
   "execution_count": 1,
   "id": "f801bfb4",
   "metadata": {},
   "outputs": [],
   "source": [
    "import matplotlib.pyplot as plt\n",
    "import pandas as pd\n",
    "import numpy as np\n",
    "\n",
    "### YOUR SOLUTION GOES HERE ###"
   ]
  },
  {
   "cell_type": "markdown",
   "id": "27456127",
   "metadata": {},
   "source": [
    "### **EXERCISE2-TASK2: [5 marks]**\n",
    "\n",
    "Implement the Kullback-Leibler (KL) divergence and use it to compare the empirical distribution from Part 1 against two fitted parametric distributions: the Beta distribution and the Gaussian distribution.\n",
    "\n",
    "Detailed instructions: Start by defining a function `compute_kl_divergence(ps, qs, epsilon=1e-3)` that computes the empirical KL divergence between two probability distributions evaluated at a set of points over the domain: `ps` (the reference distribution) and `qs` (the model distribution). Recall that the KL divergence is computed as\n",
    "\n",
    "$$\n",
    "D_{\\text{KL}}(P \\parallel Q) = \\sum_x P(x) \\log\\left(\\frac{P(x)}{Q(x)}\\right).\n",
    "$$\n",
    "\n",
    "To avoid issues with division by zero or logarithm of zero, clip values from below by a small constant `epsilon` set to 1e-3. This ensures numerical stability in the computation. Next, estimate the parameters of the sample data using `scipy.stats.beta.fit()` to obtain a fitted Beta distribution, and fit a Gaussian distribution to the data using the sample mean and standard deviation. Evaluate your fitted parametric models at the same evaluation points that you used in Part 1. Be sure to normalize each distribution (empirical, Beta, and Gaussian) so that the sum of the probabilities over the evaluation points is equal to 1 before computing the KL divergence. Using the KL divergence function, compute the KL divergence between the empirical distribution (KDE from Part 1) and each of the fitted Beta and Gaussian distributions. Print out the KL divergence values for comparison.\n",
    "\n",
    "Based on the KL divergence values, which parametric distribution (Beta or Gaussian) better approximates the empirical distribution? Provide one sentence to interpret the results. Include a plot showing the empirical KDE, the fitted Beta distribution, and the fitted Gaussian distribution to support your explanation. Make sure to label all axes and provide a legend."
   ]
  },
  {
   "cell_type": "code",
   "execution_count": 2,
   "id": "a372aceb",
   "metadata": {},
   "outputs": [],
   "source": [
    "### YOUR SOLUTION GOES HERE ###"
   ]
  },
  {
   "cell_type": "markdown",
   "id": "865f1912",
   "metadata": {},
   "source": [
    "The beta distribution fits the data better as it resulted in a lower KL divergence."
   ]
  },
  {
   "cell_type": "markdown",
   "id": "a15ffd96",
   "metadata": {},
   "source": [
    "## Exercise 3. Logistic Regression\n",
    "\n",
    "### **EXERCISE3-TASK1: [5 marks]**\n",
    "\n",
    "Implement a logistic regression model and a function to compute the gradient of the cross-entropy loss with respect to the parameters. \n",
    "\n",
    "Detailed instructions: Start by defining a function `predict_prob(w, x)` that computes the predicted probability of the positive class for a given feature vector `x` and weight vector `w`. Recall that in logistic regression, the predicted probability is given by: \n",
    "\n",
    "$$\n",
    "\\hat{y} = \\frac{1}{1 + e^{-\\langle w, x \\rangle}},\n",
    "$$\n",
    "\n",
    "where $\\langle w, x \\rangle$ is the inner (dot) product between the parameter vector and feature vector. Next, implement a function called `compute\\_gradient(ys, xs, w)` that computes the gradient of the loss function with respect to the weight vector `w`, using the true labels `ys`, and feature vectors `xs`. Define a function for the gradient of the cross-entropy loss, and verify that the implementation is correct by generating a synthetic dataset with a single feature using `numpy` and known parameters. You may find the function `numpy.random.choice` useful. Since the true parameters correspond to the generating distribution of the labels, the gradient should be close to zero at this point. Print the gradient at the true parameters."
   ]
  },
  {
   "cell_type": "code",
   "execution_count": 3,
   "id": "ad1cf376",
   "metadata": {},
   "outputs": [],
   "source": [
    "import numpy as np\n",
    "import matplotlib.pyplot as plt\n",
    "\n",
    "### YOUR SOLUTION GOES HERE ###"
   ]
  },
  {
   "cell_type": "markdown",
   "id": "3a14e47e",
   "metadata": {},
   "source": [
    "### **EXERCISE3-TASK2: [5 marks]**\n",
    "    \n",
    "Build and train a logistic regression model using gradient descent on the `heart.csv` dataset in the folder, and visualize the loss in successive training epochs. You may use `pandas`, `matplotlib`, and `numpy`.\n",
    "\n",
    "Detailed instructions: \n",
    "Begin by loading the heart disease dataset stored in `heart.csv`. Note that this dataset has categorial columns (\"cp\" and \"\"), that must be converted to one-hot encoded columns. The labels, that indicate the presence or absence of heart disease, are stored in the \"target\" column. Split the dataset into disjoint training set (66%) and a testing set (33%). \n",
    "\n",
    "Implement a function `grad_descent` that performs gradient descent to update the parameter vector. Include options for specifying the learning rate, tolerance for early stopping (if weights stop changing), and maximum number of iterations per training epoch. Consider how you would track convergence and decide when to stop the optimization.\n",
    "\n",
    "Finally, train your model using gradient descent. Use a learning rate of `1e-4`, tolerance of `1e-6`, and a maximum number of iterations per training epoch of 10000. Train your model over 10 iterations, and compute and track the cross-entropy loss on the testing set after each epoch of gradient descent. Use the function `predict_prob` from **EXERCISE3-TASK1** to return the predicted probability for a given set of inputs. Plot the loss values over multiple epochs to visualize how the model converges. "
   ]
  },
  {
   "cell_type": "code",
   "execution_count": 4,
   "id": "c1580b5b",
   "metadata": {},
   "outputs": [],
   "source": [
    "import pandas as pd\n",
    "df = pd.read_csv('heart.csv')\n",
    "\n",
    "### YOUR SOLUTION GOES HERE ###"
   ]
  },
  {
   "cell_type": "markdown",
   "id": "12afbb45",
   "metadata": {},
   "source": [
    "## Exercise 4. Stochastic Gradient Descent\n",
    "### **EXERCISE4-TASK1: [10 marks]**\n",
    "Show how the Perceptron algorithm can be interpreted as a particular form of stochastic gradient descent (SGD). \n",
    "In particular, you must provide a loss function and a gradient step size (learning rate) such that SGD with these parameters and the perceptron algorithm sare identical. This question was adapted from Prof. Gautam Kamath, in his Introduction to ML course as taught in Fall 2023. \n",
    "\n",
    "Detailed instructions: Recall that in the Perceptron algorithm, a parameter update occurs only when a sample is misclassified. Determine a loss function that assigns zero loss for correctly classified samples and a positive loss for misclassified samples. The Perceptron algorithm uses a fixed step size (learning rate) for updating the weights whenever a sample is misclassified. Determine what the learning rate should be in your SGD setup so that the resulting parameter updates are identical to those in the Perceptron algorithm."
   ]
  },
  {
   "cell_type": "code",
   "execution_count": 5,
   "id": "3232c47b",
   "metadata": {},
   "outputs": [],
   "source": [
    "### Write your solution here using MathJax and Markdown ###"
   ]
  },
  {
   "cell_type": "markdown",
   "id": "b0d2aa3e",
   "metadata": {},
   "source": [
    "## Exercise 5. Hard-Margin SVM"
   ]
  },
  {
   "cell_type": "markdown",
   "id": "c13ddf2d",
   "metadata": {},
   "source": [
    "### **EXERCISE5-TASK1: [20 marks]**\n",
    "\n",
    "Implement a Support Vector Machine (SVM) for binary classification using the dual formulation of the hard-margin SVM problem, and apply it to the Iris dataset. \n",
    "\n",
    "Detailed instructions: Begin by loading the `Iris.csv` dataset and filter it to include only two classes, \n",
    "Convert the target variable `variety` to binary labels, where `Setosa` is labeled as `+1` and all other classes are labeled as `-1`. Construct a 66\\%/33\\s% train/test split.\n",
    "You may use methods from `sklearn.preprocessing` to conduct these steps.\n",
    "\n",
    "Next, set up the dual problem for optimization problem using `cvxpy`. This will involve creating a `cvxpy` variable to represent the Lagrange multipliers $\\lambda$, as well as specifying the objective and the constraints. Recall that the dual form of the hard-margin SVM problem is:\n",
    "\n",
    "$$\n",
    "\\max_{\\lambda} \\left( \\sum_{i=1}^{n} \\lambda_i - \\frac{1}{2} \\sum_{i=1}^{n} \\sum_{j=1}^{n} \\lambda_i \\lambda_j y_i y_j \\langle x_i, x_j \\rangle \\right),\n",
    "$$\n",
    "\n",
    "subject to:\n",
    "\n",
    "$$\n",
    "\\lambda_i \\geq 0 \\;\\ \\forall i, \\quad \\text{and} \\;\\ \\sum_{i=1}^{n} \\lambda_i y_i = 0,\n",
    "$$\n",
    "\n",
    "where $\\lambda_i$ are the Lagrange multipliers, $y_i$ are the true labels, $x_i$ are the feature vectors, and $\\langle x_i, x_j \\rangle$ is the inner product between feature vectors $x_i$ and $x_j$.\n",
    "To ensure that the matrix used in the quadratic term is positive semi-definite, you may add a small regularization term, to the diagonal elements. Solve the optimization problem using `cvxpy` and extract the Lagrange multipliers from the solution.\n",
    "\n",
    "After obtaining the optimized Lagrange multipliers, compute the weight vector $w$ as a linear combination of the training feature vectors and class labels. Calculate the bias term $b$ using the support vectors.\n",
    "\n",
    "Finally, define a function to make predictions based on the computed weight vector and bias term. Use this function to evaluate the model's performance on the testing set by generating and plotting the confusion matrix as well as computing the ROC AUC score. For evaluation, you may use methods in `sklearn.metrics`."
   ]
  },
  {
   "cell_type": "code",
   "execution_count": 6,
   "id": "0dd56641",
   "metadata": {},
   "outputs": [
    {
     "name": "stdout",
     "output_type": "stream",
     "text": [
      "(CVXPY) Sep 29 11:49:42 PM: Encountered unexpected exception importing solver CVXOPT:\n",
      "ImportError('DLL load failed while importing base: The specified module could not be found.')\n",
      "(CVXPY) Sep 29 11:49:42 PM: Encountered unexpected exception importing solver GLPK:\n",
      "ImportError('DLL load failed while importing base: The specified module could not be found.')\n",
      "(CVXPY) Sep 29 11:49:42 PM: Encountered unexpected exception importing solver GLPK_MI:\n",
      "ImportError('DLL load failed while importing base: The specified module could not be found.')\n"
     ]
    }
   ],
   "source": [
    "from sklearn.preprocessing import StandardScaler\n",
    "import cvxpy as cp\n",
    "\n",
    "### YOUR SOLUTION GOES HERE ###"
   ]
  },
  {
   "cell_type": "markdown",
   "id": "d7e6496d",
   "metadata": {},
   "source": [
    "EXERCISE 6. Feature Embeddings and the Kernel Trick\n",
    "\n",
    "The dataset in the next cell is characterized by two classes, wherein one is nested within the other. This is a classic example of non-linearly separable data in the original feature space."
   ]
  },
  {
   "cell_type": "code",
   "execution_count": 7,
   "id": "41be48e2",
   "metadata": {},
   "outputs": [
    {
     "data": {
      "image/png": "[encoded data removed]",
      "text/plain": [
       "<Figure size 500x500 with 1 Axes>"
      ]
     },
     "metadata": {},
     "output_type": "display_data"
    }
   ],
   "source": [
    "np.random.seed(42)\n",
    "def generate_nested_hyperspheres(n_samples_per_class, n_features, r1 = 0.1, r2 = .3):\n",
    "    data_xs1 = np.random.normal( size = (n_samples_per_class, n_features) )\n",
    "    data_xs1 /= np.linalg.norm(data_xs1, axis=1,keepdims = True) * r1\n",
    "    data_xs2 = np.random.normal( size = (n_samples_per_class, n_features) )\n",
    "    data_xs2 /= np.linalg.norm(data_xs2, axis = 1,keepdims = True) * r2\n",
    "\n",
    "    # Stack classes and create labels\n",
    "    data_xs = np.concatenate([data_xs1,data_xs2],axis=0)\n",
    "    data_xs += np.random.normal( scale = 1., size = data_xs.shape)\n",
    "    label_ys = np.concatenate([np.ones(n_samples_per_class)*i for i in [-1,1] ])\n",
    "    return data_xs, label_ys\n",
    "\n",
    "data_xs,label_ys = generate_nested_hyperspheres( n_samples_per_class = 10, \n",
    "                                                   n_features = 2)\n",
    "fig,ax = plt.subplots(1,1,figsize=(5.,5.))\n",
    "ax.scatter(data_xs[:,0],data_xs[:,1],c=label_ys,cmap='coolwarm')\n",
    "plt.show()"
   ]
  },
  {
   "cell_type": "markdown",
   "id": "00bb5012",
   "metadata": {},
   "source": [
    "**EXERCISE6-TASK1 [10 marks]**\n",
    "Design a valid feature embedding that transforms the original features into a new space where the classes are linearly separable. \n",
    "\n",
    "Detailed instructions: Implement a function `feature_map(data_xs)` that maps the original features to a (possibly higher-dimensional) space using a custom transformation. Mkae the function general so that it works even if the number of original features changes. You may use feature transformation that you believe will make the data linearly separable in the transformed space. Implement a custom kernel function `kernel(data_xs)` that computes the similarity between data points using your designed feature embedding.\n",
    "Defend your choice of kernel function by referencing the conditions for a valid kernel."
   ]
  },
  {
   "cell_type": "code",
   "execution_count": 8,
   "id": "18bb8781",
   "metadata": {},
   "outputs": [],
   "source": [
    "### YOUR SOLUTION GOES HERE ###"
   ]
  },
  {
   "cell_type": "markdown",
   "id": "fe281ec2",
   "metadata": {},
   "source": [
    "The **kernel trick** allows us to obtain the result of an inner product between feature vectors in a high-dimensional feature space, without having to explicitly compute the embeddings. \n",
    "\n",
    "**EXERCISE6-TASK2 [ 10 marks]**\n",
    "\n",
    "Experimentally investigate the computational advantages of the kernel trick by comparing the time required to compute the Gram matrix (or kernel matrix) using explicit feature mappings versus implicit kernel computations. \n",
    "\n",
    "Detailed instructions:\n",
    "Use `generate_nested_hyperspheres` to generate synthetic datasets with different numbers of samples (explore 100,200,500,1000,2000) and features (explore 2,5,10,20,50,100,200). \n",
    "Using your feature embedding, measure the time (wall clock time) required to generate the Gram matrix (including feature embedding and generation of the Gram matrix using these features).\n",
    "In parallel, measure the time to generate the Gram matrix implicitly using your kernel function. \n",
    "Create two plots: one that shows how run time depends on the # samples and # features if you explicitly transform the features, and another that shows this same information, but if the Gram is generated using implicit kernel computations. \n",
    "Share the y-axes between the two plots to simplify direct comparison."
   ]
  },
  {
   "cell_type": "code",
   "execution_count": 9,
   "id": "c4850e9f",
   "metadata": {
    "scrolled": false
   },
   "outputs": [],
   "source": [
    "import time\n",
    "\n",
    "# vary the dataset sizes\n",
    "N_SAMPLES = [100, 200, 500, 1000, 2000] \n",
    "N_FEATURES = [2, 5, 10, 20, 50, 100]\n",
    "\n",
    "# FOR storing the timing results\n",
    "timing_results = {\n",
    "    'n_samples': [],\n",
    "    'n_features': [],\n",
    "    'explicit': [],\n",
    "    'implicit': []\n",
    "}\n",
    "\n",
    "### YOUR SOLUTION GOES HERE ###"
   ]
  },
  {
   "cell_type": "markdown",
   "id": "6759e72a",
   "metadata": {},
   "source": [
    "## EXERCISE 7. Cross-Validation\n",
    "\n",
    "### **EXERCISE7-TASK1 [10 marks]**\n",
    "\n",
    "Apply Gaussian Process Regression to the Insurance dataset and select hyperparameters via cross-validation. \n",
    "\n",
    "Detailed instructions: The Insurance dataset contains information about various health factors alongside medical insurance charges. The target variable you will try to predict is this `charges` attribute, given the other features. \n",
    "Split the data into a training set (50%) for cross-validation, as well as a holdout dataset (50%) to provide an unbiased final model evaluation.\n",
    "Apply Z-score scaling to the features and the target before proceeding to fitting/hyperparameter selection, being sure to avoid data leakage in the process. \n",
    "\n",
    "Implement Gaussian Process Regression using the `GaussianProcessRegressor` class from the `sklearn.gaussian_process` module with the `RBF` kernel. For hyperparameter selection, focus on the length scale as well as the regularization (`alpha` parameter) for the RBF kernel. Explore a range of possible length scale values (e.g., `[1.0, 2.0, 5.0, 10.0, 20.0]`) and alpha (e.g. `[0.1,0.2,1.0,2.0,10.0]`), and select the model using 5-fold cross-validation. \n",
    "Recall that this means you should divide the data into 5 equal folds, and for each combination of hyperparameters, fit the model on 4 folds and evaluate it on the remaining fold using mean squared error (MSE) as the evaluation metric.\n",
    "You may NOT use `GridSearchCV` from `sklearn.model_selection` for this part. Be sure to set `n_restarts` to some integer greater than `1` to help find the global optimum. WARNING: This process will take a few minutes, depending on your machine. Consider implementing a progressbar using `tqdm` library so you can move on to others things if you like, while you wait :)\n",
    "\n",
    "Once the hyperparameters have been selected, train your GPR on the full training set (in essence, using ALL folds) and evaluate it on the holdout dataset. Generate a scatter plot of the predicted `charges` scores (on the y-axis) against the true `charges` scores (on the x-axis), for data in the holdout dataset. Print the final MSE on the holdout set and provide a brief comment (1-2 sentences) on the results."
   ]
  },
  {
   "cell_type": "code",
   "execution_count": 10,
   "id": "496f03da",
   "metadata": {},
   "outputs": [],
   "source": [
    "### YOUR SOLUTION GOES HERE ###"
   ]
  }
 ],
 "metadata": {
  "kernelspec": {
   "display_name": "Python 3 (ipykernel)",
   "language": "python",
   "name": "python3"
  },
  "language_info": {
   "codemirror_mode": {
    "name": "ipython",
    "version": 3
   },
   "file_extension": ".py",
   "mimetype": "text/x-python",
   "name": "python",
   "nbconvert_exporter": "python",
   "pygments_lexer": "ipython3",
   "version": "3.9.13"
  }
 },
 "nbformat": 4,
 "nbformat_minor": 5
}
