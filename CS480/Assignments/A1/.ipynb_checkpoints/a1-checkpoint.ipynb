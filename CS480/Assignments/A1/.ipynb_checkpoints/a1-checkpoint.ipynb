{
 "cells": [
  {
   "cell_type": "markdown",
   "id": "cb432b8c",
   "metadata": {},
   "source": [
    "# Instructions\n",
    "\n",
    "- This assignment was posted on 11 September, 2024 and is due on 27 September 2024, at 11:59 pm\n",
    "- Answer all questions in this Jupyter notebook skeleton within the provided cells. Questions will indicate whether the answer should take the form of a coded or written response. Use the dropdown menu within the Jupyter interface to toggle between 'Markdown' or 'Code' for the cells. Do NOT delete or rearrange any of the question blocks within this skeleton.\n",
    "- The following two files should be submitted to LEARN:\n",
    "    - This IPYNB file containing the questions and your answers in either code or markdown.\n",
    "    - A PDF printout of this IPYNB file. To generate this, first run and save the output of all cells. Then expand all cells and print as PDF. Be sure that all your code and answers are visible in the PDF document you submit. "
   ]
  },
  {
   "cell_type": "markdown",
   "id": "d7b5dca3",
   "metadata": {},
   "source": [
    "# PART I. Classification"
   ]
  },
  {
   "cell_type": "markdown",
   "id": "0526f028",
   "metadata": {},
   "source": [
    "## Exercise 1. \n",
    "This exercise was adapted from CS480/680 Assignment 1 as taught in Winter 2024, designed by Shufan Zhang and Hongyang Zhang. \n",
    "\n",
    "**[ 20 marks ]** Implement the Perceptron algorithm and multiclass extension using the one-vs-all strategy **from scratch** and evaluate it on the provided Iris dataset, for which the output variable can take on 3 values. The only Python libraries you are permitted are Pandas, NumPy and Matplotlib. "
   ]
  },
  {
   "cell_type": "code",
   "execution_count": 9,
   "id": "853ddd84",
   "metadata": {
    "scrolled": false
   },
   "outputs": [],
   "source": [
    "### SOLUTION BLOCK ###\n",
    "\n",
    "## Permitted libraries\n",
    "import matplotlib.pyplot as plt\n",
    "import pandas as pd\n",
    "import numpy as np\n",
    "\n",
    "## Multi-class Extension of the Perceptron Algorithm ##\n",
    "## Add your implementation here ##"
   ]
  },
  {
   "cell_type": "markdown",
   "id": "c3911585",
   "metadata": {},
   "source": [
    "**[ 10 marks ]** Train the algorithm using an 2/3:1/3 train/test split of the data, and run the algorithm for 10 iterations, where each iteration uses the entire training dataset. "
   ]
  },
  {
   "cell_type": "code",
   "execution_count": 10,
   "id": "bb1b1f44",
   "metadata": {},
   "outputs": [],
   "source": [
    "### SOLUTION BLOCK ###\n",
    "## Add your code to train the multiclass perceptron here ##"
   ]
  },
  {
   "cell_type": "markdown",
   "id": "5fe5f75a",
   "metadata": {},
   "source": [
    "**[ 10 marks ]** Plot the training curves, that is, the accuracies associated with the low-level classifiers at each training iteration, as well as the accuracy of the high-level classifier. Be sure to label your x- and y-axes as well a legend. Report the accuracy on the test data."
   ]
  },
  {
   "cell_type": "code",
   "execution_count": 11,
   "id": "ee427759",
   "metadata": {},
   "outputs": [],
   "source": [
    "### SOLUTION BLOCK ###\n",
    "## Add your code to visualize the training curves here ##"
   ]
  },
  {
   "cell_type": "markdown",
   "id": "be1ed8db",
   "metadata": {},
   "source": [
    "**[ 10 marks ]** What can you conclude about the classes and the appropriateness of the Perceptron algorithm?"
   ]
  },
  {
   "cell_type": "markdown",
   "id": "189f140a",
   "metadata": {},
   "source": [
    "##### [ SOLUTION BLOCK: Write your response to the question here. ]"
   ]
  },
  {
   "cell_type": "markdown",
   "id": "b3c52756",
   "metadata": {},
   "source": [
    "# PART II. Regression"
   ]
  },
  {
   "cell_type": "markdown",
   "id": "7a217f78",
   "metadata": {},
   "source": [
    "### Exercise 1. \n",
    "Many phenomena associated with complex networks exhibit heavy-tailed distributions. For example, the number of followers a user has on the social media platform formerly known as Twitter has been characterized by a power law distribution:\n",
    "\n",
    "$\n",
    "y = \\alpha x ^\\beta\n",
    "$\n",
    "\n",
    "where $x$ is the number of followers, $y$ is the frequency of occurrence, and $\\alpha$ and $\\beta$ are parameters. \n",
    "\n",
    "**[10 marks]** Show that the estimation of parameters $\\alpha$ and $\\beta$ is a convex optimization problem, and provide a domain for which your assertion holds. "
   ]
  },
  {
   "cell_type": "markdown",
   "id": "ca689502",
   "metadata": {},
   "source": [
    "##### [ SOLUTION BLOCK: Write your response here ]"
   ]
  },
  {
   "cell_type": "markdown",
   "id": "2297d40c",
   "metadata": {},
   "source": [
    "### Exercise 2.\n",
    "\n",
    "**[ 10 marks ]**\n",
    "This exercise was adapted from CS480/680 Assignment 1 as taught in Fall 2023, designed by Prof Gautam Kamath.   \n",
    "\n",
    "Recall that ridge regression refers to problem\n",
    "\n",
    "$\n",
    "\\textrm{min}_{w\\in\\mathbb{R}^d,b\\in\\mathbb{R}} \\frac{1}{2k}\\|Xw +b\\mathbb{1} - y\\|_2^2 + \\lambda \\|w\\|_2^2\n",
    "$   \n",
    "\n",
    "where $X\\in\\mathbb{R}^{k\\times d}$, and $y \\in \\mathbb{R}^k$ are the given dataset and $\\lambda$ is the regularization hyperparameter.\n",
    "Visualize the loss function surface for each of $\\lambda = 0$, $\\lambda = 0.1$, and $\\lambda = 1$ for the \"Mystery.csv\" dataset provided."
   ]
  },
  {
   "cell_type": "code",
   "execution_count": 12,
   "id": "16b3a5c3",
   "metadata": {},
   "outputs": [],
   "source": [
    "### SOLUTION BLOCK ###\n",
    "## Add your code here to visualize the loss function surfaces. "
   ]
  },
  {
   "cell_type": "markdown",
   "id": "fd0363c7",
   "metadata": {},
   "source": [
    "# PART III. Clustering"
   ]
  },
  {
   "cell_type": "markdown",
   "id": "1f669b73",
   "metadata": {},
   "source": [
    "### Exercise 1. \n",
    "\n",
    "Recall that in $k$-Means clustering, we are interested in minimizing the average $L_2$ distances between a pair of points $x_i, x_i'$ that lie within a cluster $C_j$:\n",
    "\n",
    "$\n",
    "\\textrm{min}_{\\textrm{partition} C_1,...C_k} \\frac{1}{\\|C_j\\|}\\sum_{x_i,x_i \\in C_j} \\|x_i - x_i'\\|^2\n",
    "$\n",
    "\n",
    "**[ 20 marks ]** Implement K-means clustering using Lloyd's algorithm we learned in class **from scratch**. You may use NumPy only."
   ]
  },
  {
   "cell_type": "code",
   "execution_count": 13,
   "id": "b9ae10a0",
   "metadata": {},
   "outputs": [],
   "source": [
    "### SOLUTION BLOCK ###\n",
    "## Add your implementation here ##"
   ]
  },
  {
   "cell_type": "markdown",
   "id": "7315d53d",
   "metadata": {},
   "source": [
    "### Exercise 2\n",
    "\n",
    "**[ 10 marks ]** Generate an artficial dataset with 600 observations, 2 features, and 3 recognizeably distinct clusters that exposes the limitations of K-means clustering. That is, the K-means clustering should to do poorly in terms of recognizing the true clusters in the dataset. Run your algorithm on the dataset and plot the results, alongside that achieved by using the implementation from the Sci-Kit Learn package. Describe the nature of the failure, and explain its cause by making appropriate reference to the objective function and the characteristics of the dataset."
   ]
  },
  {
   "cell_type": "code",
   "execution_count": 14,
   "id": "0c4c9e79",
   "metadata": {},
   "outputs": [],
   "source": [
    "### Solution Block ###\n",
    "# put your code to visualize the clustering here #"
   ]
  },
  {
   "cell_type": "markdown",
   "id": "acb6faf6",
   "metadata": {},
   "source": [
    "### Exercise 3. \n",
    "\n",
    "**[ 10 marks ]** Investigate the computational complexity of the algorithm as a function of the number of clusters, the number of observations, the number of features, and the maximum number of iterations. \n",
    "That is, measure the wall clock time elapsed in different conditions, by sweeping over one variable while holding the remainder fixed. Explore over the ranges and conditions specified in the table below. For each variable explored, plot the wall clock time against the value of the variable being explored.\n",
    "\n",
    "| Explored Variable   | Range                     | # Observations | # Features | # Clusters | Max. # Iterations |\n",
    "| ------------------- | ------------------------- | -------------- | ---------- | ---------- | ----------------- | \n",
    "| # Observations      | [200,500,1000,2000,5000]  | See Range.     | 2          |  3         | 100               | \n",
    "| # Features          | [2,5,10,20,50]            | 500            | See Range. |  3         | 100               |\n",
    "| # Clusters          | [2,5,10,20,50]            | 500            | 2          |  See Range.| 100               |\n",
    "| Max. # Iterations   | [20,50,100,200,500]       | 500            | 2          |  3         | See Range.        |"
   ]
  },
  {
   "cell_type": "code",
   "execution_count": 15,
   "id": "35694aac",
   "metadata": {},
   "outputs": [],
   "source": [
    "### Solution block ###\n",
    "# Add your code here to explore the complexity of Lloyd's algorithm for K-Means clustering."
   ]
  }
 ],
 "metadata": {
  "kernelspec": {
   "display_name": "Python 3 (ipykernel)",
   "language": "python",
   "name": "python3"
  },
  "language_info": {
   "codemirror_mode": {
    "name": "ipython",
    "version": 3
   },
   "file_extension": ".py",
   "mimetype": "text/x-python",
   "name": "python",
   "nbconvert_exporter": "python",
   "pygments_lexer": "ipython3",
   "version": "3.9.13"
  }
 },
 "nbformat": 4,
 "nbformat_minor": 5
}
